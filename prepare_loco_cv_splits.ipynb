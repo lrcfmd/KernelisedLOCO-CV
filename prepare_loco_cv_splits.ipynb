{
 "cells": [
  {
   "cell_type": "markdown",
   "id": "0f0bdbdb-410f-4420-9123-5cc147833cf7",
   "metadata": {},
   "source": [
    "# Preparing LOCO-CV and kernelised LOCO-CV splits"
   ]
  },
  {
   "cell_type": "markdown",
   "id": "e8013ef9-5389-40f6-a0d6-a81b3b30705c",
   "metadata": {},
   "source": [
    "In this file we'll go through an example of preparing clusterings for use with LOCO-CV. We will use do this with an without a kernel function, using radial basis function as our example kernel"
   ]
  },
  {
   "cell_type": "markdown",
   "id": "5450f34e-ba0e-4037-8479-7f22c41a0d42",
   "metadata": {},
   "source": [
    "## First some imports and configurations"
   ]
  },
  {
   "cell_type": "code",
   "execution_count": 1,
   "id": "80473c86-9002-4f07-8dff-c53493d71877",
   "metadata": {},
   "outputs": [],
   "source": [
    "import pandas as pd\n",
    "import os\n",
    "from utilities import find_clusterings\n",
    "from sklearn.kernel_approximation import RBFSampler\n",
    "import json"
   ]
  },
  {
   "cell_type": "code",
   "execution_count": 2,
   "id": "4ccd40a1-d572-45ae-9bdc-776c17c7f502",
   "metadata": {},
   "outputs": [],
   "source": [
    "data_folder = 'data/case_studies'\n",
    "task_info = 'task_info.json'\n",
    "\n",
    "with open(task_info) as f:\n",
    "    tasks = json.load(f)"
   ]
  },
  {
   "cell_type": "markdown",
   "id": "9d7ad617-1fac-48e7-a8b6-8e9614e73a4a",
   "metadata": {},
   "source": [
    "## Now choose which featurisation and dataset"
   ]
  },
  {
   "cell_type": "code",
   "execution_count": 3,
   "id": "3515bf85-e319-4a48-886d-1859a3fa99bd",
   "metadata": {},
   "outputs": [],
   "source": [
    "featurisation_method = 'oliynyk'\n",
    "task = 'HH stability'"
   ]
  },
  {
   "cell_type": "code",
   "execution_count": 4,
   "id": "7cea74ef-7119-4b7a-8a90-566ce83468ee",
   "metadata": {},
   "outputs": [],
   "source": [
    "task_folder = os.path.join(data_folder, #were the data is\n",
    "                 'featurised', #whether we are investigating CBFVs or random projections\n",
    "                 tasks[task]['study_folder'], #Which study?\n",
    "                 'LOCO-CV',#80_20_split or LOCO-CV?\n",
    "                 tasks[task]['type'], #regression or classification?\n",
    "                 tasks[task]['task_folder']) #Which task?\n",
    "data_file = os.path.join(task_folder,f'{featurisation_method}_CBFV.csv')"
   ]
  },
  {
   "cell_type": "markdown",
   "id": "bc6059aa-5029-4936-b238-1a1d7aebe714",
   "metadata": {},
   "source": [
    "## We define a function to split up a given data space with several applications of k-means\n",
    "from the source code we can see this is a simple function"
   ]
  },
  {
   "cell_type": "code",
   "execution_count": 5,
   "id": "cb8582c5-9063-4edd-a3ac-4e8d861d4606",
   "metadata": {},
   "outputs": [
    {
     "data": {
      "text/plain": [
       "\u001b[0;31mSignature:\u001b[0m  \u001b[0mfind_clusterings\u001b[0m\u001b[0;34m(\u001b[0m\u001b[0mdata\u001b[0m\u001b[0;34m,\u001b[0m \u001b[0mformulae\u001b[0m\u001b[0;34m)\u001b[0m\u001b[0;34m\u001b[0m\u001b[0;34m\u001b[0m\u001b[0m\n",
       "\u001b[0;31mSource:\u001b[0m   \n",
       "\u001b[0;32mdef\u001b[0m \u001b[0mfind_clusterings\u001b[0m\u001b[0;34m(\u001b[0m\u001b[0mdata\u001b[0m\u001b[0;34m,\u001b[0m \u001b[0mformulae\u001b[0m\u001b[0;34m)\u001b[0m\u001b[0;34m:\u001b[0m\u001b[0;34m\u001b[0m\n",
       "\u001b[0;34m\u001b[0m    \u001b[0;34m\"\"\"clusters data using kmeans clustering for values of k between 2 and 10\u001b[0m\n",
       "\u001b[0;34m\u001b[0m\n",
       "\u001b[0;34m    Parameters:\u001b[0m\n",
       "\u001b[0;34m    data (pandas Dataframe or np.ndarray): data to cluster\u001b[0m\n",
       "\u001b[0;34m    formulae (pandas Series or list of strings): formulae associated with each row of data\u001b[0m\n",
       "\u001b[0;34m    Returns:\u001b[0m\n",
       "\u001b[0;34m    list: clusters in the form [{'k':2, 'formulae':['H2O','NaCl'....],\u001b[0m\n",
       "\u001b[0;34m          'clusters':[0,1...]},{'k':2...]\u001b[0m\n",
       "\u001b[0;34m\u001b[0m\n",
       "\u001b[0;34m   \"\"\"\u001b[0m\u001b[0;34m\u001b[0m\n",
       "\u001b[0;34m\u001b[0m    \u001b[0mclusters\u001b[0m \u001b[0;34m=\u001b[0m \u001b[0;34m[\u001b[0m\u001b[0;34m]\u001b[0m\u001b[0;34m\u001b[0m\n",
       "\u001b[0;34m\u001b[0m    \u001b[0;32mfor\u001b[0m \u001b[0mk\u001b[0m \u001b[0;32min\u001b[0m \u001b[0mrange\u001b[0m\u001b[0;34m(\u001b[0m\u001b[0;36m2\u001b[0m\u001b[0;34m,\u001b[0m\u001b[0;36m11\u001b[0m\u001b[0;34m)\u001b[0m\u001b[0;34m:\u001b[0m\u001b[0;34m\u001b[0m\n",
       "\u001b[0;34m\u001b[0m        \u001b[0mkm\u001b[0m \u001b[0;34m=\u001b[0m \u001b[0mKMeans\u001b[0m\u001b[0;34m(\u001b[0m\u001b[0mn_clusters\u001b[0m\u001b[0;34m=\u001b[0m\u001b[0mk\u001b[0m\u001b[0;34m)\u001b[0m\u001b[0;34m\u001b[0m\n",
       "\u001b[0;34m\u001b[0m        \u001b[0mlabels\u001b[0m \u001b[0;34m=\u001b[0m \u001b[0mkm\u001b[0m\u001b[0;34m.\u001b[0m\u001b[0mfit_predict\u001b[0m\u001b[0;34m(\u001b[0m\u001b[0mdata\u001b[0m\u001b[0;34m)\u001b[0m\u001b[0;34m\u001b[0m\n",
       "\u001b[0;34m\u001b[0m        \u001b[0mclusters\u001b[0m\u001b[0;34m.\u001b[0m\u001b[0mappend\u001b[0m\u001b[0;34m(\u001b[0m\u001b[0;34m{\u001b[0m\u001b[0;34m'k'\u001b[0m\u001b[0;34m:\u001b[0m\u001b[0mk\u001b[0m\u001b[0;34m,\u001b[0m \u001b[0;31m# How many clusters\u001b[0m\u001b[0;34m\u001b[0m\n",
       "\u001b[0;34m\u001b[0m                         \u001b[0;34m'labels'\u001b[0m\u001b[0;34m:\u001b[0m\u001b[0mlabels\u001b[0m\u001b[0;34m.\u001b[0m\u001b[0mtolist\u001b[0m\u001b[0;34m(\u001b[0m\u001b[0;34m)\u001b[0m\u001b[0;34m,\u001b[0m \u001b[0;31m#Labels for each data point\u001b[0m\u001b[0;34m\u001b[0m\n",
       "\u001b[0;34m\u001b[0m                         \u001b[0;34m'formula'\u001b[0m\u001b[0;34m:\u001b[0m\u001b[0mlist\u001b[0m\u001b[0;34m(\u001b[0m\u001b[0mformulae\u001b[0m\u001b[0;34m)\u001b[0m\u001b[0;34m,\u001b[0m \u001b[0;31m# Associated formula\u001b[0m\u001b[0;34m\u001b[0m\n",
       "\u001b[0;34m\u001b[0m                         \u001b[0;34m'centers'\u001b[0m\u001b[0;34m:\u001b[0m\u001b[0mkm\u001b[0m\u001b[0;34m.\u001b[0m\u001b[0mcluster_centers_\u001b[0m\u001b[0;34m.\u001b[0m\u001b[0mtolist\u001b[0m\u001b[0;34m(\u001b[0m\u001b[0;34m)\u001b[0m \u001b[0;31m#Cluster centers\u001b[0m\u001b[0;34m\u001b[0m\n",
       "\u001b[0;34m\u001b[0m                        \u001b[0;34m}\u001b[0m\u001b[0;34m)\u001b[0m\u001b[0;34m\u001b[0m\n",
       "\u001b[0;34m\u001b[0m    \u001b[0;32mreturn\u001b[0m \u001b[0mclusters\u001b[0m\u001b[0;34m\u001b[0m\u001b[0;34m\u001b[0m\u001b[0m\n",
       "\u001b[0;31mFile:\u001b[0m      ~/Documents/work/KernelisedLOCO-CV/utilities.py\n",
       "\u001b[0;31mType:\u001b[0m      function\n"
      ]
     },
     "metadata": {},
     "output_type": "display_data"
    }
   ],
   "source": [
    "?? find_clusterings"
   ]
  },
  {
   "cell_type": "markdown",
   "id": "74d974e2-4872-4b1f-ad88-92e532a40c2e",
   "metadata": {},
   "source": [
    "## Read in file"
   ]
  },
  {
   "cell_type": "code",
   "execution_count": 6,
   "id": "1281edca-b5c0-4b20-8797-c20b78a992a0",
   "metadata": {},
   "outputs": [],
   "source": [
    "df = pd.read_csv(data_file)\n",
    "formulae = df['formula']\n",
    "featurised_data = df.drop(['target','formula'], axis=1)"
   ]
  },
  {
   "cell_type": "markdown",
   "id": "9a60b5c4-991a-45ff-946b-f05abab97cd8",
   "metadata": {},
   "source": [
    "## For normal LOCO-CV we can just pass this data to our function\n",
    "we can then save this for later use"
   ]
  },
  {
   "cell_type": "code",
   "execution_count": 7,
   "id": "b9be5fe5-8a22-4f02-8a55-5e21bc8a74d2",
   "metadata": {},
   "outputs": [],
   "source": [
    "#This line can take a minute or two\n",
    "clusters = find_clusterings(featurised_data,formulae)"
   ]
  },
  {
   "cell_type": "code",
   "execution_count": 8,
   "id": "3c1602d0-09a9-4115-bb07-7a9b2abd0407",
   "metadata": {},
   "outputs": [],
   "source": [
    "with open('example_clustering.json', 'w') as f:\n",
    "    json.dump(clusters, f)"
   ]
  },
  {
   "cell_type": "markdown",
   "id": "fa44e0f3-97b7-4810-80b7-04fe6afab144",
   "metadata": {},
   "source": [
    "## For Kernelised LOCO-CV we must first apply the kernel function\n",
    "Again we can then save this for later use"
   ]
  },
  {
   "cell_type": "code",
   "execution_count": 9,
   "id": "51392e26-3a93-478f-9418-75524e8f802b",
   "metadata": {},
   "outputs": [],
   "source": [
    "rbf = RBFSampler()\n",
    "#This line can take a minute or two\n",
    "kernelised_clusters = find_clusterings(rbf.fit_transform(featurised_data),formulae)"
   ]
  },
  {
   "cell_type": "code",
   "execution_count": 10,
   "id": "236cf34d-87d8-454e-af72-5a4f90921ba4",
   "metadata": {},
   "outputs": [],
   "source": [
    "with open('example_kernelised_clustering.json', 'w') as f:\n",
    "    json.dump(kernelised_clusters, f)"
   ]
  }
 ],
 "metadata": {
  "kernelspec": {
   "display_name": "Python 3",
   "language": "python",
   "name": "python3"
  },
  "language_info": {
   "codemirror_mode": {
    "name": "ipython",
    "version": 3
   },
   "file_extension": ".py",
   "mimetype": "text/x-python",
   "name": "python",
   "nbconvert_exporter": "python",
   "pygments_lexer": "ipython3",
   "version": "3.7.9"
  }
 },
 "nbformat": 4,
 "nbformat_minor": 5
}
